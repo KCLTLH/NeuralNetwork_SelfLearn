{
 "cells": [
  {
   "cell_type": "markdown",
   "metadata": {
    "id": "MKFK8Bz7O1AL"
   },
   "source": [
    "# In this notebook we will cover foundamental TensorFlow.\n",
    "\n",
    "More specificaly, we're going cover to cover:\n",
    "* Introguction tensors\n",
    "* Getting information from tensors\n",
    "* Manipulating tensors\n",
    "* Tensors & Numpy\n",
    "* Use @tf.function (a way to speed up your regular Python functions)\n",
    "* Using GPU with TensorFlow (or TPUs)\n",
    "* Exercise to try for yourself !"
   ]
  },
  {
   "cell_type": "markdown",
   "metadata": {
    "id": "7Zhf4aGXPx8v"
   },
   "source": [
    "## Introduction to Tensors"
   ]
  },
  {
   "cell_type": "code",
   "execution_count": 67,
   "metadata": {
    "colab": {
     "base_uri": "https://localhost:8080/"
    },
    "id": "wJxF-xxcQNHi",
    "outputId": "19c553ca-c2ad-416a-d6a0-23db75d2cffa"
   },
   "outputs": [
    {
     "name": "stdout",
     "output_type": "stream",
     "text": [
      "2.15.0\n"
     ]
    }
   ],
   "source": [
    "# Import TensorFlow\n",
    "import tensorflow as tf\n",
    "print(tf.__version__)"
   ]
  },
  {
   "cell_type": "code",
   "execution_count": 2,
   "metadata": {
    "colab": {
     "base_uri": "https://localhost:8080/"
    },
    "id": "yT_Yj2mrQbBb",
    "outputId": "2c9fb585-5a07-4a85-b60b-368f0774e54a"
   },
   "outputs": [
    {
     "data": {
      "text/plain": [
       "<tf.Tensor: shape=(), dtype=int32, numpy=7>"
      ]
     },
     "execution_count": 2,
     "metadata": {},
     "output_type": "execute_result"
    }
   ],
   "source": [
    "# Create tensord with tf.constant()\n",
    "scalar = tf.constant(7)\n",
    "scalar"
   ]
  },
  {
   "cell_type": "code",
   "execution_count": 3,
   "metadata": {
    "colab": {
     "base_uri": "https://localhost:8080/"
    },
    "id": "6kMR0lbyQuMR",
    "outputId": "9f5d31ab-0b9d-4c3a-f2f4-67429c7151b5"
   },
   "outputs": [
    {
     "data": {
      "text/plain": [
       "0"
      ]
     },
     "execution_count": 3,
     "metadata": {},
     "output_type": "execute_result"
    }
   ],
   "source": [
    "# Check the number of dimension of a tensor (ndim)\n",
    "scalar.ndim"
   ]
  },
  {
   "cell_type": "code",
   "execution_count": 4,
   "metadata": {
    "colab": {
     "base_uri": "https://localhost:8080/"
    },
    "id": "v7XdZOm8RD3w",
    "outputId": "660c1466-b080-4431-8db2-2164adef665a"
   },
   "outputs": [
    {
     "data": {
      "text/plain": [
       "<tf.Tensor: shape=(2,), dtype=int32, numpy=array([10, 10])>"
      ]
     },
     "execution_count": 4,
     "metadata": {},
     "output_type": "execute_result"
    }
   ],
   "source": [
    "# Create a vector\n",
    "vector = tf.constant([10, 10])\n",
    "vector"
   ]
  },
  {
   "cell_type": "code",
   "execution_count": 5,
   "metadata": {
    "colab": {
     "base_uri": "https://localhost:8080/"
    },
    "id": "u0RYDhQcRKVE",
    "outputId": "b315bab5-6c78-4816-c5b8-f839b1e0a46d"
   },
   "outputs": [
    {
     "data": {
      "text/plain": [
       "1"
      ]
     },
     "execution_count": 5,
     "metadata": {},
     "output_type": "execute_result"
    }
   ],
   "source": [
    "vector.ndim"
   ]
  },
  {
   "cell_type": "code",
   "execution_count": 6,
   "metadata": {
    "colab": {
     "base_uri": "https://localhost:8080/"
    },
    "id": "frJ9JvrTRR_j",
    "outputId": "75b0725e-e27e-44e7-88d7-5643b7fe2166"
   },
   "outputs": [
    {
     "data": {
      "text/plain": [
       "<tf.Tensor: shape=(2, 2), dtype=int32, numpy=\n",
       "array([[10,  7],\n",
       "       [ 7, 10]])>"
      ]
     },
     "execution_count": 6,
     "metadata": {},
     "output_type": "execute_result"
    }
   ],
   "source": [
    "# Create a Matrix\n",
    "matrix = tf.constant([[10, 7],\n",
    "            [7, 10]])\n",
    "\n",
    "matrix"
   ]
  },
  {
   "cell_type": "code",
   "execution_count": 7,
   "metadata": {
    "colab": {
     "base_uri": "https://localhost:8080/"
    },
    "id": "mGpm5tLiRhF8",
    "outputId": "74eba717-fa77-490f-ba59-07143fd12dea"
   },
   "outputs": [
    {
     "data": {
      "text/plain": [
       "2"
      ]
     },
     "execution_count": 7,
     "metadata": {},
     "output_type": "execute_result"
    }
   ],
   "source": [
    "matrix.ndim"
   ]
  },
  {
   "cell_type": "code",
   "execution_count": 8,
   "metadata": {
    "colab": {
     "base_uri": "https://localhost:8080/"
    },
    "id": "cTCM-AhsRnQf",
    "outputId": "59a6419f-9c61-41de-e55e-777f1779bcc4"
   },
   "outputs": [
    {
     "data": {
      "text/plain": [
       "<tf.Tensor: shape=(3, 2), dtype=float32, numpy=\n",
       "array([[10.,  7.],\n",
       "       [ 7., 10.],\n",
       "       [ 1.,  3.]], dtype=float32)>"
      ]
     },
     "execution_count": 8,
     "metadata": {},
     "output_type": "execute_result"
    }
   ],
   "source": [
    "# Create another matrix\n",
    "another_matrix = tf.constant([[10, 7], [7, 10], [1, 3]], dtype=tf.float32) # Specify data type\n",
    "\n",
    "another_matrix"
   ]
  },
  {
   "cell_type": "code",
   "execution_count": 9,
   "metadata": {
    "colab": {
     "base_uri": "https://localhost:8080/"
    },
    "id": "bESynnlFSZTF",
    "outputId": "035f6482-1236-4f32-93e4-65614b02c85e"
   },
   "outputs": [
    {
     "data": {
      "text/plain": [
       "2"
      ]
     },
     "execution_count": 9,
     "metadata": {},
     "output_type": "execute_result"
    }
   ],
   "source": [
    "# What is number of domention is?\n",
    "another_matrix.ndim"
   ]
  },
  {
   "cell_type": "code",
   "execution_count": 10,
   "metadata": {
    "colab": {
     "base_uri": "https://localhost:8080/"
    },
    "id": "6XHhJPTVSmmn",
    "outputId": "ff26e0a5-4798-4a8d-c0c1-0dacf5a68814"
   },
   "outputs": [
    {
     "data": {
      "text/plain": [
       "<tf.Tensor: shape=(3, 3, 3), dtype=int32, numpy=\n",
       "array([[[ 1,  2,  3],\n",
       "        [ 4,  5,  6],\n",
       "        [ 7,  8,  9]],\n",
       "\n",
       "       [[10, 11, 12],\n",
       "        [13, 14, 15],\n",
       "        [16, 17, 18]],\n",
       "\n",
       "       [[19, 20, 21],\n",
       "        [22, 23, 24],\n",
       "        [25, 26, 27]]])>"
      ]
     },
     "execution_count": 10,
     "metadata": {},
     "output_type": "execute_result"
    }
   ],
   "source": [
    "# Let's create a tensor\n",
    "tensor = tf.constant([    [        [ 1,  2,  3],\n",
    "        [ 4,  5,  6],\n",
    "        [ 7,  8,  9]\n",
    "    ],\n",
    "    [        [10, 11, 12],\n",
    "        [13, 14, 15],\n",
    "        [16, 17, 18]\n",
    "    ],\n",
    "    [        [19, 20, 21],\n",
    "        [22, 23, 24],\n",
    "        [25, 26, 27]\n",
    "    ]\n",
    "]\n",
    ")\n",
    "\n",
    "tensor"
   ]
  },
  {
   "cell_type": "code",
   "execution_count": 11,
   "metadata": {
    "colab": {
     "base_uri": "https://localhost:8080/"
    },
    "id": "sxP8fZbQTfdg",
    "outputId": "c35180d6-1bc6-42f4-ba27-82f85115c25b"
   },
   "outputs": [
    {
     "data": {
      "text/plain": [
       "3"
      ]
     },
     "execution_count": 11,
     "metadata": {},
     "output_type": "execute_result"
    }
   ],
   "source": [
    "tensor.ndim"
   ]
  },
  {
   "cell_type": "markdown",
   "metadata": {
    "id": "7SXaPuzpT6OI"
   },
   "source": [
    "What we've created so far:\n",
    "\n",
    "* Scalor: A single number\n",
    "* Vector: A number with direction (e.g. wind speed)\n",
    "* Matrix: A 2-dimentional array of numbers\n",
    "* Tensor: An n-dimentional array of numbers (when n can be any number)"
   ]
  },
  {
   "cell_type": "markdown",
   "metadata": {
    "id": "X8daWDZhUc1S"
   },
   "source": [
    "### Creatinf tensors with `tf.Variable`"
   ]
  },
  {
   "cell_type": "code",
   "execution_count": 12,
   "metadata": {
    "colab": {
     "base_uri": "https://localhost:8080/"
    },
    "id": "ifihC7DIUUIm",
    "outputId": "09955375-016f-4ccd-bc2a-c60b30d32268"
   },
   "outputs": [
    {
     "data": {
      "text/plain": [
       "(<tf.Variable 'Variable:0' shape=(2,) dtype=int32, numpy=array([10,  7])>,\n",
       " <tf.Tensor: shape=(2,), dtype=int32, numpy=array([10,  7])>)"
      ]
     },
     "execution_count": 12,
     "metadata": {},
     "output_type": "execute_result"
    }
   ],
   "source": [
    "# Create the same tensor with tf.Variable() as above\n",
    "changeable_tensor = tf.Variable([10, 7])\n",
    "unchangeable_tensor = tf.constant([10, 7])\n",
    "\n",
    "changeable_tensor, unchangeable_tensor"
   ]
  },
  {
   "cell_type": "code",
   "execution_count": 13,
   "metadata": {
    "colab": {
     "base_uri": "https://localhost:8080/"
    },
    "id": "ejyWIeWHVSeg",
    "outputId": "d9a06e47-3fed-426a-8b5f-1e7d30fba0f8"
   },
   "outputs": [
    {
     "data": {
      "text/plain": [
       "<tf.Variable 'Variable:0' shape=(2,) dtype=int32, numpy=array([7, 7])>"
      ]
     },
     "execution_count": 13,
     "metadata": {},
     "output_type": "execute_result"
    }
   ],
   "source": [
    "# Let's try change one of the element ussing assign\n",
    "changeable_tensor[0].assign(7)\n",
    "\n",
    "changeable_tensor"
   ]
  },
  {
   "cell_type": "markdown",
   "metadata": {
    "id": "wtifUjMLWaU9"
   },
   "source": [
    "## Creating random Tensors\n",
    "\n",
    "Random tensors are tensors of some abitrary size wihich contain random numbers."
   ]
  },
  {
   "cell_type": "code",
   "execution_count": 14,
   "metadata": {
    "colab": {
     "base_uri": "https://localhost:8080/"
    },
    "id": "hgZcZOCkWI-N",
    "outputId": "b9ba35c5-6bcb-4fa6-b577-d5f39b31195a"
   },
   "outputs": [
    {
     "data": {
      "text/plain": [
       "(<tf.Tensor: shape=(3, 2), dtype=float32, numpy=\n",
       " array([[-0.7565803 , -0.06854702],\n",
       "        [ 0.07595026, -1.2573844 ],\n",
       "        [-0.23193763, -1.8107855 ]], dtype=float32)>,\n",
       " <tf.Tensor: shape=(3, 2), dtype=float32, numpy=\n",
       " array([[-0.7565803 , -0.06854702],\n",
       "        [ 0.07595026, -1.2573844 ],\n",
       "        [-0.23193763, -1.8107855 ]], dtype=float32)>,\n",
       " <tf.Tensor: shape=(3, 2), dtype=bool, numpy=\n",
       " array([[ True,  True],\n",
       "        [ True,  True],\n",
       "        [ True,  True]])>)"
      ]
     },
     "execution_count": 14,
     "metadata": {},
     "output_type": "execute_result"
    }
   ],
   "source": [
    "# Create two random tensors\n",
    "\n",
    "random_1 = tf.random.Generator.from_seed(42) # Set seed for reproducibility\n",
    "random_1 = random_1.normal(shape=(3, 2))\n",
    "random_2 = tf.random.Generator.from_seed(42)\n",
    "random_2 = random_2.normal(shape=(3, 2))\n",
    "\n",
    "\n",
    "# Are they equal?\n",
    "\n",
    "random_1, random_2, random_1 == random_2"
   ]
  },
  {
   "cell_type": "markdown",
   "metadata": {
    "id": "v9rYCZ-yihOa"
   },
   "source": [
    "### Shuffle the order of element in a tensor"
   ]
  },
  {
   "cell_type": "code",
   "execution_count": 15,
   "metadata": {
    "colab": {
     "base_uri": "https://localhost:8080/"
    },
    "id": "Q8yKDP0aeqVT",
    "outputId": "987a7c86-bcea-4dd6-aadb-db78f9bf3eb6"
   },
   "outputs": [
    {
     "data": {
      "text/plain": [
       "(2,\n",
       " <tf.Tensor: shape=(3, 2), dtype=int32, numpy=\n",
       " array([[10,  7],\n",
       "        [ 3,  4],\n",
       "        [ 2,  5]])>)"
      ]
     },
     "execution_count": 15,
     "metadata": {},
     "output_type": "execute_result"
    }
   ],
   "source": [
    "# Shuffle a tensor (valuable for suffle the data so the inherent order did not effect learning)\n",
    "\n",
    "not_shuffled = tf.constant([[10, 7], [3, 4], [2, 5]])\n",
    "\n",
    "not_shuffled.ndim, not_shuffled"
   ]
  },
  {
   "cell_type": "code",
   "execution_count": 16,
   "metadata": {
    "colab": {
     "base_uri": "https://localhost:8080/"
    },
    "id": "akERHuM3jv7O",
    "outputId": "e6f01d1e-4fcc-43a0-ac4e-d631022e352c"
   },
   "outputs": [
    {
     "data": {
      "text/plain": [
       "(2,\n",
       " <tf.Tensor: shape=(3, 2), dtype=int32, numpy=\n",
       " array([[ 2,  5],\n",
       "        [10,  7],\n",
       "        [ 3,  4]])>)"
      ]
     },
     "execution_count": 16,
     "metadata": {},
     "output_type": "execute_result"
    }
   ],
   "source": [
    "# Now shuffle the not_shuffle tensor\n",
    "\n",
    "shuffled = tf.random.shuffle(not_shuffled)\n",
    "\n",
    "shuffled.ndim, shuffled"
   ]
  },
  {
   "cell_type": "code",
   "execution_count": 17,
   "metadata": {
    "colab": {
     "base_uri": "https://localhost:8080/"
    },
    "id": "6dHftU58kIZC",
    "outputId": "494ca0f7-dd8d-422a-af80-d6ff0318b8c8"
   },
   "outputs": [
    {
     "data": {
      "text/plain": [
       "<tf.Tensor: shape=(3, 2), dtype=int32, numpy=\n",
       "array([[10,  7],\n",
       "       [ 3,  4],\n",
       "       [ 2,  5]])>"
      ]
     },
     "execution_count": 17,
     "metadata": {},
     "output_type": "execute_result"
    }
   ],
   "source": [
    "tf.random.set_seed(42) # Global level seed\n",
    "tf.random.shuffle(not_shuffled, seed=(42)) # Operation level random seed"
   ]
  },
  {
   "cell_type": "markdown",
   "metadata": {
    "id": "5PfjeSJUl0Vx"
   },
   "source": [
    "> ☝ It looks like if wewant our shuffled tensors to be in the same order, we've got to use global level random seed as well as the operation level random seed."
   ]
  },
  {
   "cell_type": "markdown",
   "metadata": {
    "id": "cpnTZCpRmfiL"
   },
   "source": [
    "### Others ways to make tensors:"
   ]
  },
  {
   "cell_type": "code",
   "execution_count": 18,
   "metadata": {
    "colab": {
     "base_uri": "https://localhost:8080/"
    },
    "id": "5wQBwHW3lpir",
    "outputId": "596c33ec-6f7d-4832-e4e4-a56a6ea1d726"
   },
   "outputs": [
    {
     "data": {
      "text/plain": [
       "<tf.Tensor: shape=(3, 2), dtype=float32, numpy=\n",
       "array([[1., 1.],\n",
       "       [1., 1.],\n",
       "       [1., 1.]], dtype=float32)>"
      ]
     },
     "execution_count": 18,
     "metadata": {},
     "output_type": "execute_result"
    }
   ],
   "source": [
    "#Create tensor with all ones\n",
    "\n",
    "tf.ones([3, 2])"
   ]
  },
  {
   "cell_type": "code",
   "execution_count": 19,
   "metadata": {
    "colab": {
     "base_uri": "https://localhost:8080/"
    },
    "id": "BHGBeW_am1h4",
    "outputId": "2761f236-7a32-415b-9f04-303aebae1680"
   },
   "outputs": [
    {
     "data": {
      "text/plain": [
       "<tf.Tensor: shape=(3, 2), dtype=float32, numpy=\n",
       "array([[0., 0.],\n",
       "       [0., 0.],\n",
       "       [0., 0.]], dtype=float32)>"
      ]
     },
     "execution_count": 19,
     "metadata": {},
     "output_type": "execute_result"
    }
   ],
   "source": [
    "# Create tensor with all zeros\n",
    "\n",
    "tf.zeros([3, 2])"
   ]
  },
  {
   "cell_type": "markdown",
   "metadata": {
    "id": "aXoIgFW-_qA-"
   },
   "source": [
    "## Turn Nimpy arrays into tensore.\n",
    "\n",
    "The main difference between NumPy arrays and  TensorFlow tensors is that tensors can run on  a GPU (much faster for numerical computing)."
   ]
  },
  {
   "cell_type": "code",
   "execution_count": 20,
   "metadata": {
    "colab": {
     "base_uri": "https://localhost:8080/"
    },
    "id": "zjYTzGQjnGEu",
    "outputId": "12525097-43db-463f-9300-41823ba84d02"
   },
   "outputs": [
    {
     "data": {
      "text/plain": [
       "array([ 1,  2,  3,  4,  5,  6,  7,  8,  9, 10, 11, 12, 13, 14, 15, 16, 17,\n",
       "       18, 19, 20, 21, 22, 23, 24])"
      ]
     },
     "execution_count": 20,
     "metadata": {},
     "output_type": "execute_result"
    }
   ],
   "source": [
    "# You can also turn numpy arrays into tensors\n",
    "\n",
    "import numpy as np\n",
    "\n",
    "numpy_A = np.arange(1, 25, dtype=np.int32) # Capital for matrix ot tensor, non-capital for vector.\n",
    "\n",
    "numpy_A\n"
   ]
  },
  {
   "cell_type": "code",
   "execution_count": 21,
   "metadata": {
    "colab": {
     "base_uri": "https://localhost:8080/"
    },
    "id": "-FtOiw9BAXYh",
    "outputId": "83a4891c-b580-4620-e82b-41087d41d1d1"
   },
   "outputs": [
    {
     "data": {
      "text/plain": [
       "(<tf.Tensor: shape=(24,), dtype=int32, numpy=\n",
       " array([ 1,  2,  3,  4,  5,  6,  7,  8,  9, 10, 11, 12, 13, 14, 15, 16, 17,\n",
       "        18, 19, 20, 21, 22, 23, 24])>,\n",
       " <tf.Tensor: shape=(2, 3, 4), dtype=int32, numpy=\n",
       " array([[[ 1,  2,  3,  4],\n",
       "         [ 5,  6,  7,  8],\n",
       "         [ 9, 10, 11, 12]],\n",
       " \n",
       "        [[13, 14, 15, 16],\n",
       "         [17, 18, 19, 20],\n",
       "         [21, 22, 23, 24]]])>)"
      ]
     },
     "execution_count": 21,
     "metadata": {},
     "output_type": "execute_result"
    }
   ],
   "source": [
    "A = tf.constant(numpy_A) # Turn it into tensor\n",
    "B = tf.constant(numpy_A, shape=(2, 3, 4)) # We can also re-shape it\n",
    "\n",
    "A, B"
   ]
  },
  {
   "cell_type": "markdown",
   "metadata": {
    "id": "wXvWDqqxBQuI"
   },
   "source": [
    "### Getting information from tensors\n",
    "\n",
    "When dealing with tensors:\n",
    "* Shape\n",
    "* Rank\n",
    "* Axis or Dimentsion\n",
    "* Size"
   ]
  },
  {
   "cell_type": "code",
   "execution_count": 22,
   "metadata": {
    "colab": {
     "base_uri": "https://localhost:8080/"
    },
    "id": "tXcwwbYxAkGD",
    "outputId": "69189d75-7db5-48b4-ee6a-65740c883992"
   },
   "outputs": [
    {
     "data": {
      "text/plain": [
       "<tf.Tensor: shape=(2, 3, 4, 5), dtype=float32, numpy=\n",
       "array([[[[0., 0., 0., 0., 0.],\n",
       "         [0., 0., 0., 0., 0.],\n",
       "         [0., 0., 0., 0., 0.],\n",
       "         [0., 0., 0., 0., 0.]],\n",
       "\n",
       "        [[0., 0., 0., 0., 0.],\n",
       "         [0., 0., 0., 0., 0.],\n",
       "         [0., 0., 0., 0., 0.],\n",
       "         [0., 0., 0., 0., 0.]],\n",
       "\n",
       "        [[0., 0., 0., 0., 0.],\n",
       "         [0., 0., 0., 0., 0.],\n",
       "         [0., 0., 0., 0., 0.],\n",
       "         [0., 0., 0., 0., 0.]]],\n",
       "\n",
       "\n",
       "       [[[0., 0., 0., 0., 0.],\n",
       "         [0., 0., 0., 0., 0.],\n",
       "         [0., 0., 0., 0., 0.],\n",
       "         [0., 0., 0., 0., 0.]],\n",
       "\n",
       "        [[0., 0., 0., 0., 0.],\n",
       "         [0., 0., 0., 0., 0.],\n",
       "         [0., 0., 0., 0., 0.],\n",
       "         [0., 0., 0., 0., 0.]],\n",
       "\n",
       "        [[0., 0., 0., 0., 0.],\n",
       "         [0., 0., 0., 0., 0.],\n",
       "         [0., 0., 0., 0., 0.],\n",
       "         [0., 0., 0., 0., 0.]]]], dtype=float32)>"
      ]
     },
     "execution_count": 22,
     "metadata": {},
     "output_type": "execute_result"
    }
   ],
   "source": [
    "# Create a rank four tensors (4 dimensions)\n",
    "\n",
    "rank4_tensor = tf.zeros([2, 3, 4, 5])\n",
    "\n",
    "rank4_tensor"
   ]
  },
  {
   "cell_type": "code",
   "execution_count": 23,
   "metadata": {
    "colab": {
     "base_uri": "https://localhost:8080/"
    },
    "id": "Ptu2OZ5wCs7u",
    "outputId": "f2935364-9702-432f-f552-f901d854413b"
   },
   "outputs": [
    {
     "data": {
      "text/plain": [
       "(TensorShape([2, 3, 4, 5]), 4, <tf.Tensor: shape=(), dtype=int32, numpy=120>)"
      ]
     },
     "execution_count": 23,
     "metadata": {},
     "output_type": "execute_result"
    }
   ],
   "source": [
    "rank4_tensor.shape, rank4_tensor.ndim, tf.size(rank4_tensor)"
   ]
  },
  {
   "cell_type": "code",
   "execution_count": 24,
   "metadata": {
    "colab": {
     "base_uri": "https://localhost:8080/"
    },
    "id": "SalS36HqDcNA",
    "outputId": "a2d93777-fc12-4d43-f5bc-ef7d9a6b183f"
   },
   "outputs": [
    {
     "name": "stdout",
     "output_type": "stream",
     "text": [
      "Datatype of every element: <dtype: 'float32'>\n",
      "Number of dimensions (rank) 4\n",
      "Shape of tensor: (2, 3, 4, 5)\n",
      "Elements along the 0 axies: 2\n",
      "Element along last axix: 5\n",
      "Total number of the tensor: 120\n"
     ]
    }
   ],
   "source": [
    "# Get various attributrs of our tensor\n",
    "\n",
    "print(\"Datatype of every element:\", rank4_tensor.dtype)\n",
    "print(\"Number of dimensions (rank)\", rank4_tensor.ndim)\n",
    "print(\"Shape of tensor:\", rank4_tensor.shape)\n",
    "print(\"Elements along the 0 axies:\", rank4_tensor.shape[0])\n",
    "print(\"Element along last axix:\", rank4_tensor.shape[-1])\n",
    "print(\"Total number of the tensor:\", tf.size(rank4_tensor).numpy())\n"
   ]
  },
  {
   "cell_type": "markdown",
   "metadata": {
    "id": "Pik1CFArFCw4"
   },
   "source": [
    "### Indexing tensor\n",
    "Tensors can be indexed just like Python list."
   ]
  },
  {
   "cell_type": "code",
   "execution_count": 25,
   "metadata": {
    "colab": {
     "base_uri": "https://localhost:8080/"
    },
    "id": "B0sRHzYFEQa7",
    "outputId": "394ec76e-fff3-43d7-c7d1-a96957ffc724"
   },
   "outputs": [
    {
     "data": {
      "text/plain": [
       "<tf.Tensor: shape=(2, 2, 2, 2), dtype=float32, numpy=\n",
       "array([[[[0., 0.],\n",
       "         [0., 0.]],\n",
       "\n",
       "        [[0., 0.],\n",
       "         [0., 0.]]],\n",
       "\n",
       "\n",
       "       [[[0., 0.],\n",
       "         [0., 0.]],\n",
       "\n",
       "        [[0., 0.],\n",
       "         [0., 0.]]]], dtype=float32)>"
      ]
     },
     "execution_count": 25,
     "metadata": {},
     "output_type": "execute_result"
    }
   ],
   "source": [
    "# Get the first 2 lwmwnts of each dimension\n",
    "\n",
    "rank4_tensor[:2, :2, :2, :2]"
   ]
  },
  {
   "cell_type": "code",
   "execution_count": 26,
   "metadata": {
    "colab": {
     "base_uri": "https://localhost:8080/"
    },
    "id": "EhM40OLMFYQ3",
    "outputId": "fdea40d8-bc8d-4827-cf64-61eebed01aea"
   },
   "outputs": [
    {
     "data": {
      "text/plain": [
       "<tf.Tensor: shape=(1, 1, 1, 5), dtype=float32, numpy=array([[[[0., 0., 0., 0., 0.]]]], dtype=float32)>"
      ]
     },
     "execution_count": 26,
     "metadata": {},
     "output_type": "execute_result"
    }
   ],
   "source": [
    "# Get the first element from each dimension from each index expect for the final one\n",
    "\n",
    "rank4_tensor[:1, :1, :1, :]"
   ]
  },
  {
   "cell_type": "code",
   "execution_count": 27,
   "metadata": {
    "colab": {
     "base_uri": "https://localhost:8080/"
    },
    "id": "rhghR3FJ6RHJ",
    "outputId": "8345ad61-0042-4ac1-f3b2-5795f0b1bd48"
   },
   "outputs": [
    {
     "name": "stdout",
     "output_type": "stream",
     "text": [
      "Number of dimensions (rank) 2\n"
     ]
    }
   ],
   "source": [
    "# Create a rank 2 tansor (2 dimensions)\n",
    "\n",
    "rank2_tensor = tf.constant([[10, 7], [3, 4]])\n",
    "\n",
    "print(\"Number of dimensions (rank)\", rank2_tensor.ndim)"
   ]
  },
  {
   "cell_type": "code",
   "execution_count": 28,
   "metadata": {
    "colab": {
     "base_uri": "https://localhost:8080/"
    },
    "id": "xACw9RIZ7B-G",
    "outputId": "c4c7a975-3683-431b-a8ed-33cba8173823"
   },
   "outputs": [
    {
     "data": {
      "text/plain": [
       "<tf.Tensor: shape=(2,), dtype=int32, numpy=array([7, 4])>"
      ]
     },
     "execution_count": 28,
     "metadata": {},
     "output_type": "execute_result"
    }
   ],
   "source": [
    "# Get last item of each row\n",
    "\n",
    "rank2_tensor[:, -1]"
   ]
  },
  {
   "cell_type": "code",
   "execution_count": 29,
   "metadata": {
    "colab": {
     "base_uri": "https://localhost:8080/"
    },
    "id": "a1QarqF87jB0",
    "outputId": "5decab9c-850d-43a6-f7dc-63429a70af18"
   },
   "outputs": [
    {
     "data": {
      "text/plain": [
       "<tf.Tensor: shape=(2, 2, 1), dtype=int32, numpy=\n",
       "array([[[10],\n",
       "        [ 7]],\n",
       "\n",
       "       [[ 3],\n",
       "        [ 4]]])>"
      ]
     },
     "execution_count": 29,
     "metadata": {},
     "output_type": "execute_result"
    }
   ],
   "source": [
    "# Add in extra dimension to our rank 2 tensor\n",
    "\n",
    "rank3_tensor = rank2_tensor[:, :, tf.newaxis] # Or [..., tf.newaxis]\n",
    "\n",
    "rank3_tensor"
   ]
  },
  {
   "cell_type": "code",
   "execution_count": 30,
   "metadata": {
    "colab": {
     "base_uri": "https://localhost:8080/"
    },
    "id": "0t_1HZZy8nOx",
    "outputId": "38784d22-bc9a-4dc9-c30d-aec67dedc4b5"
   },
   "outputs": [
    {
     "data": {
      "text/plain": [
       "<tf.Tensor: shape=(2, 2, 1), dtype=int32, numpy=\n",
       "array([[[10],\n",
       "        [ 7]],\n",
       "\n",
       "       [[ 3],\n",
       "        [ 4]]])>"
      ]
     },
     "execution_count": 30,
     "metadata": {},
     "output_type": "execute_result"
    }
   ],
   "source": [
    "# Alternative way to do so\n",
    "\n",
    "tf.expand_dims(rank2_tensor, axis=-1) # -1 means final axis"
   ]
  },
  {
   "cell_type": "code",
   "execution_count": 31,
   "metadata": {
    "colab": {
     "base_uri": "https://localhost:8080/"
    },
    "id": "1ynhygHGHh5t",
    "outputId": "ccaf4dd7-cf7f-4499-f84d-e35d0ec191fb"
   },
   "outputs": [
    {
     "data": {
      "text/plain": [
       "<tf.Tensor: shape=(2, 2), dtype=int32, numpy=\n",
       "array([[10,  7],\n",
       "       [ 3,  4]])>"
      ]
     },
     "execution_count": 31,
     "metadata": {},
     "output_type": "execute_result"
    }
   ],
   "source": [
    "rank2_tensor"
   ]
  },
  {
   "cell_type": "markdown",
   "metadata": {
    "id": "xCx9v7xKHUKS"
   },
   "source": [
    "### Manipulating tensors (tensor operations)\n",
    "\n",
    "**Basic operstions**\n",
    "\n",
    "`+`, `-`, `*`, `/`\n"
   ]
  },
  {
   "cell_type": "code",
   "execution_count": 32,
   "metadata": {
    "colab": {
     "base_uri": "https://localhost:8080/"
    },
    "id": "SqfC-pYT9PT0",
    "outputId": "05232824-a795-47c1-a01f-e4eba9c4dfa0"
   },
   "outputs": [
    {
     "name": "stdout",
     "output_type": "stream",
     "text": [
      "tf.Tensor(\n",
      "[[20 17]\n",
      " [13 14]], shape=(2, 2), dtype=int32)\n",
      "[[ 0 -3]\n",
      " [-7 -6]]\n",
      "[[100  70]\n",
      " [ 30  40]]\n",
      "[[1.  0.7]\n",
      " [0.3 0.4]]\n"
     ]
    }
   ],
   "source": [
    "# You can add values to a tensor usind the addition operator\n",
    "\n",
    "tensor = tf.constant([[10, 7], [3, 4]])\n",
    "\n",
    "print(tensor + 10) # Original remain unchange\n",
    "\n",
    "print((tensor - 10).numpy())\n",
    "\n",
    "print((tensor * 10).numpy())\n",
    "\n",
    "print((tensor / 10).numpy())"
   ]
  },
  {
   "cell_type": "code",
   "execution_count": 33,
   "metadata": {
    "colab": {
     "base_uri": "https://localhost:8080/"
    },
    "id": "izNf8V3yKCZi",
    "outputId": "b573e3eb-6f4f-4a95-fd9f-e37eec75966d"
   },
   "outputs": [
    {
     "data": {
      "text/plain": [
       "array([[1. , 0.7],\n",
       "       [0.3, 0.4]])"
      ]
     },
     "execution_count": 33,
     "metadata": {},
     "output_type": "execute_result"
    }
   ],
   "source": [
    "# Wecan also use TensorFlow build in operator\n",
    "# This way will do it faster than before ways\n",
    "\n",
    "tf.multiply(tensor, 10).numpy()\n",
    "\n",
    "tf.divide(tensor, 10).numpy()"
   ]
  },
  {
   "cell_type": "markdown",
   "metadata": {
    "id": "MB_3y2wBLl07"
   },
   "source": [
    "**Matrix Multiplication**\n",
    "\n",
    "In machine learning, matrix multipication is one of the most common tensor operstors.\n",
    "\n",
    "There are two rules our tensor (or matrix) need to fulfil if we're going to matrix mutiplication.:\n",
    "\n",
    "1. The inner dimensions must match\n",
    "2. The resulting matrix has the shape of the inner dimensions"
   ]
  },
  {
   "cell_type": "code",
   "execution_count": 34,
   "metadata": {
    "colab": {
     "base_uri": "https://localhost:8080/"
    },
    "id": "BTasYDAPLGUO",
    "outputId": "deb1b542-9b40-43ac-d7a5-a2ca69314a4b"
   },
   "outputs": [
    {
     "name": "stdout",
     "output_type": "stream",
     "text": [
      "tf.Tensor(\n",
      "[[10  7]\n",
      " [ 3  4]], shape=(2, 2), dtype=int32)\n",
      "[[121  98]\n",
      " [ 42  37]]\n"
     ]
    }
   ],
   "source": [
    "# Matrix multiplication in TensorFlow\n",
    "\n",
    "print(tensor)\n",
    "\n",
    "print(tf.matmul(tensor, tensor).numpy())"
   ]
  },
  {
   "cell_type": "code",
   "execution_count": 35,
   "metadata": {
    "colab": {
     "base_uri": "https://localhost:8080/"
    },
    "id": "-vwHeCRkOmH2",
    "outputId": "83c36e3f-b8dd-4bdc-fdc4-88420e67b245"
   },
   "outputs": [
    {
     "name": "stdout",
     "output_type": "stream",
     "text": [
      "[[121  98]\n",
      " [ 42  37]]\n"
     ]
    }
   ],
   "source": [
    "# Matrix multiplication with Python operator \"@\"\n",
    "\n",
    "print((tensor @ tensor).numpy())"
   ]
  },
  {
   "cell_type": "code",
   "execution_count": 36,
   "metadata": {},
   "outputs": [
    {
     "data": {
      "text/plain": [
       "TensorShape([2, 2])"
      ]
     },
     "execution_count": 36,
     "metadata": {},
     "output_type": "execute_result"
    }
   ],
   "source": [
    "tensor.shape"
   ]
  },
  {
   "cell_type": "code",
   "execution_count": 37,
   "metadata": {},
   "outputs": [],
   "source": [
    "# Create a tensor  (3, 2)\n",
    "\n",
    "X = tf.constant([[1, 2], [3, 4], [5, 6]])\n",
    "\n",
    "# Create another (3, 2)\n",
    "\n",
    "Y = tf.constant([[3, 5], [7, 8], [9, 10]])"
   ]
  },
  {
   "cell_type": "code",
   "execution_count": 38,
   "metadata": {},
   "outputs": [],
   "source": [
    "# Try to mutiply tensors of same shape\n",
    "# X @ Y"
   ]
  },
  {
   "cell_type": "code",
   "execution_count": 39,
   "metadata": {},
   "outputs": [
    {
     "name": "stdout",
     "output_type": "stream",
     "text": [
      "[[ 3  5  7]\n",
      " [ 8  9 10]]\n",
      "\n",
      "[[1 2]\n",
      " [3 4]\n",
      " [5 6]]\n",
      "\n",
      "X @ Y = \n",
      "[[19 23 27]\n",
      " [41 51 61]\n",
      " [63 79 95]]\n"
     ]
    }
   ],
   "source": [
    "#　We can change the shape of Y\n",
    "\n",
    "Y = tf.reshape(Y, [2, 3])\n",
    "\n",
    "print(Y.numpy())\n",
    "print()\n",
    "print(X.numpy())\n",
    "print()\n",
    "\n",
    "print(\"X @ Y = \")\n",
    "print((X@Y).numpy())"
   ]
  },
  {
   "cell_type": "code",
   "execution_count": 40,
   "metadata": {},
   "outputs": [
    {
     "data": {
      "text/plain": [
       "<tf.Tensor: shape=(3, 3), dtype=int32, numpy=\n",
       "array([[19, 23, 27],\n",
       "       [41, 51, 61],\n",
       "       [63, 79, 95]])>"
      ]
     },
     "execution_count": 40,
     "metadata": {},
     "output_type": "execute_result"
    }
   ],
   "source": [
    "tf.matmul(X, Y)"
   ]
  },
  {
   "cell_type": "code",
   "execution_count": 41,
   "metadata": {},
   "outputs": [
    {
     "name": "stdout",
     "output_type": "stream",
     "text": [
      "tf.Tensor(\n",
      "[[ 3  5]\n",
      " [ 7  8]\n",
      " [ 9 10]], shape=(3, 2), dtype=int32)\n",
      "tf.Tensor(\n",
      "[[ 3  7  9]\n",
      " [ 5  8 10]], shape=(2, 3), dtype=int32)\n"
     ]
    }
   ],
   "source": [
    "# Or what we can do is transpose\n",
    "\n",
    "\n",
    "Y = tf.constant([[3, 5], [7, 8], [9, 10]])\n",
    "\n",
    "print(Y)\n",
    "\n",
    "tf.transpose(Y)\n",
    "\n",
    "print(tf.transpose(Y))"
   ]
  },
  {
   "cell_type": "markdown",
   "metadata": {},
   "source": [
    "**The dot product**\n",
    "\n",
    "Matrix multiplication is also referref to as the dot product.\n",
    "\n",
    "You can perform matrix mutiplication using:\n",
    "\n",
    "*`tf.matmul`*\n",
    "\n",
    "*`tf.tensordot`*\n",
    "\n",
    "*`@`*"
   ]
  },
  {
   "cell_type": "code",
   "execution_count": 42,
   "metadata": {},
   "outputs": [
    {
     "name": "stdout",
     "output_type": "stream",
     "text": [
      "[[ 13  23  29]\n",
      " [ 29  53  67]\n",
      " [ 45  83 105]] \n",
      "\n",
      "[[ 13  23  29]\n",
      " [ 29  53  67]\n",
      " [ 45  83 105]]\n"
     ]
    }
   ],
   "source": [
    "# Perform the dot product on X ad Y (requires X or Y to be transposed) \n",
    "\n",
    "\"\"\"\n",
    "⚠️ Do not use reshappe ⚠️\n",
    "\"\"\"\n",
    "\n",
    "print(tf.tensordot(X, tf.transpose(Y), axes = 1).numpy(), \"\\n\")\n",
    "\n",
    "print(tf.matmul(X, tf.transpose(Y)).numpy())"
   ]
  },
  {
   "cell_type": "markdown",
   "metadata": {},
   "source": [
    "#### Generally, when performingmatrix matilipication on two tensors and one of the axes does not line up we will transpose rather then reshpae."
   ]
  },
  {
   "cell_type": "markdown",
   "metadata": {},
   "source": [
    "### Changing the data type of a tensor ?"
   ]
  },
  {
   "cell_type": "code",
   "execution_count": 43,
   "metadata": {},
   "outputs": [
    {
     "data": {
      "text/plain": [
       "tf.float32"
      ]
     },
     "execution_count": 43,
     "metadata": {},
     "output_type": "execute_result"
    }
   ],
   "source": [
    "# Create a new tensor with default flot32\n",
    "\n",
    "B = tf.constant([1.7, 3.2])\n",
    "\n",
    "B.dtype"
   ]
  },
  {
   "cell_type": "code",
   "execution_count": 44,
   "metadata": {},
   "outputs": [
    {
     "data": {
      "text/plain": [
       "tf.int32"
      ]
     },
     "execution_count": 44,
     "metadata": {},
     "output_type": "execute_result"
    }
   ],
   "source": [
    "C = tf.constant([1, 2])\n",
    "\n",
    "C.dtype"
   ]
  },
  {
   "cell_type": "code",
   "execution_count": 45,
   "metadata": {},
   "outputs": [
    {
     "data": {
      "text/plain": [
       "tf.float16"
      ]
     },
     "execution_count": 45,
     "metadata": {},
     "output_type": "execute_result"
    }
   ],
   "source": [
    "# Change from float32 to float16 (resuce percision)\n",
    "\n",
    "D = tf.cast(B, dtype=tf.float16)\n",
    "\n",
    "D.dtype"
   ]
  },
  {
   "cell_type": "code",
   "execution_count": 46,
   "metadata": {},
   "outputs": [
    {
     "name": "stdout",
     "output_type": "stream",
     "text": [
      "C was <dtype: 'int32'> . Now it is  <dtype: 'float32'>\n"
     ]
    }
   ],
   "source": [
    "# Change int32 to float32\n",
    "\n",
    "E = tf.cast(C, dtype=tf.float32)\n",
    "\n",
    "print(\"C was\", C.dtype, \". Now it is \", E.dtype)"
   ]
  },
  {
   "cell_type": "markdown",
   "metadata": {},
   "source": [
    "### Aggregating tensors 🤐\n",
    "\n",
    "Aggregation tensors = Condensing from mutiple values down to a samller amount of values."
   ]
  },
  {
   "cell_type": "code",
   "execution_count": 47,
   "metadata": {},
   "outputs": [
    {
     "data": {
      "text/plain": [
       "<tf.Tensor: shape=(2,), dtype=int32, numpy=array([ 7, 10])>"
      ]
     },
     "execution_count": 47,
     "metadata": {},
     "output_type": "execute_result"
    }
   ],
   "source": [
    "# Getting abslute values\n",
    "\n",
    "D = tf.constant([-7, -10])\n",
    "\n",
    "tf.abs(D)"
   ]
  },
  {
   "cell_type": "markdown",
   "metadata": {},
   "source": [
    "### Let's go through the following form of aggregation\n",
    "\n",
    "* Get the min : *`tf.reduce_min`*\n",
    "\n",
    "* Get the max: *`tf.reduce_max`*\n",
    "\n",
    "* Get the mean: *`tf.reduce_mean`*\n",
    "\n",
    "* Get the sum: *`tf.reduce_sum`*"
   ]
  },
  {
   "cell_type": "code",
   "execution_count": 48,
   "metadata": {},
   "outputs": [
    {
     "data": {
      "text/plain": [
       "<tf.Tensor: shape=(50,), dtype=int32, numpy=\n",
       "array([59, 99, 80, 17, 86, 22, 69, 72, 83, 53, 45, 66, 19, 31, 95, 67, 29,\n",
       "       19, 20, 40, 22, 78, 62,  8, 42, 29, 26,  2, 22, 29, 17,  3, 80, 31,\n",
       "       51, 82,  3,  0, 14,  4, 96, 59,  1, 13, 69, 70, 40, 16, 75, 84])>"
      ]
     },
     "execution_count": 48,
     "metadata": {},
     "output_type": "execute_result"
    }
   ],
   "source": [
    "# Create a random tensor with values between 0 ~ 100\n",
    "\n",
    "E = tf.constant(np.random.randint(0, 100, size = 50))\n",
    "\n",
    "E"
   ]
  },
  {
   "cell_type": "code",
   "execution_count": 49,
   "metadata": {},
   "outputs": [
    {
     "name": "stdout",
     "output_type": "stream",
     "text": [
      "Here is the minium: 0\n",
      "Here is the maxium: 99\n",
      "Here is the mean: 43\n",
      "Here is the sum: 2199 \n",
      "\n",
      "Here is a variance: 891.1396\n",
      "Here is the standard deviation: 29.851961\n"
     ]
    }
   ],
   "source": [
    "print(\"Here is the minium:\", tf.reduce_min(E).numpy())\n",
    "print(\"Here is the maxium:\", tf.reduce_max(E).numpy())\n",
    "print(\"Here is the mean:\", tf.reduce_mean(E).numpy())\n",
    "print(\"Here is the sum:\", tf.reduce_sum(E).numpy(), \"\\n\")\n",
    "\n",
    "\"\"\"\n",
    "😯 Remember must cast type first 😯\n",
    "\"\"\"\n",
    "\n",
    "# Cast the dtype\n",
    "E = tf.cast(E, dtype=tf.float32)\n",
    "\n",
    "print(\"Here is a variance:\", tf.math.reduce_variance(E).numpy())\n",
    "print(\"Here is the standard deviation:\", tf.math.reduce_std(E).numpy())\n"
   ]
  },
  {
   "cell_type": "markdown",
   "metadata": {},
   "source": [
    "### Find the positional maximun and minimun  "
   ]
  },
  {
   "cell_type": "code",
   "execution_count": 50,
   "metadata": {},
   "outputs": [
    {
     "data": {
      "text/plain": [
       "array([0.6645621 , 0.44100678, 0.3528825 , 0.46448255, 0.03366041,\n",
       "       0.68467236, 0.74011743, 0.8724445 , 0.22632635, 0.22319686,\n",
       "       0.3103881 , 0.7223358 , 0.13318717, 0.5480639 , 0.5746088 ,\n",
       "       0.8996835 , 0.00946367, 0.5212307 , 0.6345445 , 0.1993283 ,\n",
       "       0.72942245, 0.54583454, 0.10756552, 0.6767061 , 0.6602763 ,\n",
       "       0.33695042, 0.60141766, 0.21062577, 0.8527372 , 0.44062173,\n",
       "       0.9485276 , 0.23752594, 0.81179297, 0.5263394 , 0.494308  ,\n",
       "       0.21612847, 0.8457197 , 0.8718841 , 0.3083862 , 0.6868038 ,\n",
       "       0.23764038, 0.7817228 , 0.9671384 , 0.06870162, 0.79873943,\n",
       "       0.66028714, 0.5871513 , 0.16461694, 0.7381023 , 0.32054043],\n",
       "      dtype=float32)"
      ]
     },
     "execution_count": 50,
     "metadata": {},
     "output_type": "execute_result"
    }
   ],
   "source": [
    "# Create a new tensor for finding positional max and min\n",
    "\n",
    "tf.random.set_seed(42)\n",
    "F = tf.random.uniform(shape=[50])\n",
    "F.numpy()"
   ]
  },
  {
   "cell_type": "code",
   "execution_count": 51,
   "metadata": {},
   "outputs": [
    {
     "name": "stdout",
     "output_type": "stream",
     "text": [
      "0.9671384 \n",
      "\n",
      "0.9671384\n"
     ]
    }
   ],
   "source": [
    "# Find the positional Maximum\n",
    "\n",
    "\"\"\"\n",
    "😀tf.argmax(F) will give us the index😀\n",
    "\"\"\"\n",
    "\n",
    "print(F[tf.argmax(F)].numpy(), \"\\n\")\n",
    "print(tf.reduce_max(F).numpy())\n",
    "\n",
    "assert F[tf.argmax(F)] == tf.reduce_max(F)"
   ]
  },
  {
   "cell_type": "code",
   "execution_count": 52,
   "metadata": {},
   "outputs": [
    {
     "name": "stdout",
     "output_type": "stream",
     "text": [
      "0.009463668 \n",
      "\n",
      "0.009463668\n"
     ]
    }
   ],
   "source": [
    "# Find the positional minuium\n",
    "\n",
    "print(F[tf.argmin(F)].numpy(), \"\\n\")\n",
    "print(tf.reduce_min(F).numpy())"
   ]
  },
  {
   "cell_type": "markdown",
   "metadata": {},
   "source": [
    "### Squeezing a tensor (removing all signal dimensions)"
   ]
  },
  {
   "cell_type": "code",
   "execution_count": 53,
   "metadata": {},
   "outputs": [
    {
     "data": {
      "text/plain": [
       "<tf.Tensor: shape=(1, 1, 1, 1, 50), dtype=float32, numpy=\n",
       "array([[[[[0.6645621 , 0.44100678, 0.3528825 , 0.46448255, 0.03366041,\n",
       "           0.68467236, 0.74011743, 0.8724445 , 0.22632635, 0.22319686,\n",
       "           0.3103881 , 0.7223358 , 0.13318717, 0.5480639 , 0.5746088 ,\n",
       "           0.8996835 , 0.00946367, 0.5212307 , 0.6345445 , 0.1993283 ,\n",
       "           0.72942245, 0.54583454, 0.10756552, 0.6767061 , 0.6602763 ,\n",
       "           0.33695042, 0.60141766, 0.21062577, 0.8527372 , 0.44062173,\n",
       "           0.9485276 , 0.23752594, 0.81179297, 0.5263394 , 0.494308  ,\n",
       "           0.21612847, 0.8457197 , 0.8718841 , 0.3083862 , 0.6868038 ,\n",
       "           0.23764038, 0.7817228 , 0.9671384 , 0.06870162, 0.79873943,\n",
       "           0.66028714, 0.5871513 , 0.16461694, 0.7381023 , 0.32054043]]]]],\n",
       "      dtype=float32)>"
      ]
     },
     "execution_count": 53,
     "metadata": {},
     "output_type": "execute_result"
    }
   ],
   "source": [
    "# Create a tensor to get started\n",
    "\n",
    "tf.random.set_seed(42)\n",
    "\n",
    "G = tf.constant(tf.random.uniform(shape=[50]), shape=(1, 1, 1, 1, 50))\n",
    "\n",
    "G"
   ]
  },
  {
   "cell_type": "code",
   "execution_count": 54,
   "metadata": {},
   "outputs": [
    {
     "name": "stdout",
     "output_type": "stream",
     "text": [
      "(1, 1, 1, 1, 50)\n",
      "(50,)\n"
     ]
    }
   ],
   "source": [
    "# Squeezing \n",
    "\n",
    "print(G.shape)\n",
    "\n",
    "G_squeeze = tf.squeeze(G)\n",
    "\n",
    "print(G_squeeze.shape)"
   ]
  },
  {
   "cell_type": "markdown",
   "metadata": {},
   "source": [
    "### One-hot encoding tensors"
   ]
  },
  {
   "cell_type": "code",
   "execution_count": 55,
   "metadata": {},
   "outputs": [
    {
     "data": {
      "text/plain": [
       "<tf.Tensor: shape=(4, 4), dtype=float32, numpy=\n",
       "array([[1., 0., 0., 0.],\n",
       "       [0., 1., 0., 0.],\n",
       "       [0., 0., 1., 0.],\n",
       "       [0., 0., 0., 1.]], dtype=float32)>"
      ]
     },
     "execution_count": 55,
     "metadata": {},
     "output_type": "execute_result"
    }
   ],
   "source": [
    "# Create a list of indices\n",
    "some_list = [0, 1, 2, 3] # Could be red, green, blue, purple\n",
    "\n",
    "# One-hot encoding our list of indices\n",
    "tf.one_hot(some_list, depth=4)"
   ]
  },
  {
   "cell_type": "code",
   "execution_count": 56,
   "metadata": {},
   "outputs": [
    {
     "data": {
      "text/plain": [
       "<tf.Tensor: shape=(4, 4), dtype=string, numpy=\n",
       "array([[b'I LUV learning', b'Also loke to dance', b'Also loke to dance',\n",
       "        b'Also loke to dance'],\n",
       "       [b'Also loke to dance', b'I LUV learning', b'Also loke to dance',\n",
       "        b'Also loke to dance'],\n",
       "       [b'Also loke to dance', b'Also loke to dance', b'I LUV learning',\n",
       "        b'Also loke to dance'],\n",
       "       [b'Also loke to dance', b'Also loke to dance',\n",
       "        b'Also loke to dance', b'I LUV learning']], dtype=object)>"
      ]
     },
     "execution_count": 56,
     "metadata": {},
     "output_type": "execute_result"
    }
   ],
   "source": [
    "# Specify custom values for one-hot encoding\n",
    "\n",
    "tf.one_hot(some_list, depth=4, on_value = \"I LUV learning\", off_value=\"Also loke to dance\")"
   ]
  },
  {
   "cell_type": "markdown",
   "metadata": {},
   "source": [
    "### Squaring, log, squarw root"
   ]
  },
  {
   "cell_type": "code",
   "execution_count": 57,
   "metadata": {},
   "outputs": [
    {
     "data": {
      "text/plain": [
       "<tf.Tensor: shape=(9,), dtype=float32, numpy=array([1., 2., 3., 4., 5., 6., 7., 8., 9.], dtype=float32)>"
      ]
     },
     "execution_count": 57,
     "metadata": {},
     "output_type": "execute_result"
    }
   ],
   "source": [
    "# Create a tensor\n",
    "H = tf.range(1., 10.)\n",
    "\n",
    "H"
   ]
  },
  {
   "cell_type": "code",
   "execution_count": 58,
   "metadata": {},
   "outputs": [
    {
     "data": {
      "text/plain": [
       "<tf.Tensor: shape=(9,), dtype=float32, numpy=array([ 1.,  4.,  9., 16., 25., 36., 49., 64., 81.], dtype=float32)>"
      ]
     },
     "execution_count": 58,
     "metadata": {},
     "output_type": "execute_result"
    }
   ],
   "source": [
    "# Square it\n",
    "tf.square(H)"
   ]
  },
  {
   "cell_type": "code",
   "execution_count": 59,
   "metadata": {},
   "outputs": [
    {
     "name": "stdout",
     "output_type": "stream",
     "text": [
      "[1.        1.4142135 1.7320508 2.        2.236068  2.4494898 2.6457512\n",
      " 2.828427  3.       ]\n"
     ]
    }
   ],
   "source": [
    "# Square root\n",
    "\"\"\"\n",
    "💫Require the dtype be float💫\n",
    "\"\"\"\n",
    "\n",
    "H_cast = tf.cast(H, dtype=tf.float32)\n",
    "print(tf.math.sqrt(H_cast).numpy())"
   ]
  },
  {
   "cell_type": "code",
   "execution_count": 60,
   "metadata": {},
   "outputs": [
    {
     "name": "stdout",
     "output_type": "stream",
     "text": [
      "[0.        0.6931472 1.0986123 1.3862944 1.609438  1.7917595 1.9459102\n",
      " 2.0794415 2.1972246]\n"
     ]
    }
   ],
   "source": [
    "# Find the log\n",
    "print(tf.math.log(H_cast).numpy())"
   ]
  },
  {
   "cell_type": "markdown",
   "metadata": {},
   "source": [
    "### Tensors and Numpy\n",
    "\n",
    "TensorFlow interacts beautifully with Numpy arrays"
   ]
  },
  {
   "cell_type": "code",
   "execution_count": 62,
   "metadata": {},
   "outputs": [
    {
     "data": {
      "text/plain": [
       "<tf.Tensor: shape=(5,), dtype=float64, numpy=array([1., 2., 3., 4., 5.])>"
      ]
     },
     "execution_count": 62,
     "metadata": {},
     "output_type": "execute_result"
    }
   ],
   "source": [
    "# Create a tensor directly from a numpy array\n",
    "J = tf.constant(np.array([1., 2, 3, 4, 5]))\n",
    "\n",
    "J"
   ]
  },
  {
   "cell_type": "code",
   "execution_count": 63,
   "metadata": {},
   "outputs": [
    {
     "data": {
      "text/plain": [
       "(array([1., 2., 3., 4., 5.]), numpy.ndarray)"
      ]
     },
     "execution_count": 63,
     "metadata": {},
     "output_type": "execute_result"
    }
   ],
   "source": [
    "# Convert our tensor back to Numpy array\n",
    "np.array(J), type(np.array(J))"
   ]
  },
  {
   "cell_type": "code",
   "execution_count": 65,
   "metadata": {},
   "outputs": [
    {
     "name": "stdout",
     "output_type": "stream",
     "text": [
      "3.0\n"
     ]
    }
   ],
   "source": [
    "# Convert tensor J to a Numpy array\n",
    "J.numpy(), type(J.numpy())\n",
    "\n",
    "##print(J.numpy()[2])"
   ]
  },
  {
   "cell_type": "code",
   "execution_count": 66,
   "metadata": {},
   "outputs": [
    {
     "data": {
      "text/plain": [
       "(tf.float64, tf.float32)"
      ]
     },
     "execution_count": 66,
     "metadata": {},
     "output_type": "execute_result"
    }
   ],
   "source": [
    "# Default types of each slightly different\n",
    "numpy_J = tf.constant(np.array([3., 7., 4.]))\n",
    "tensor_J = tf.constant([3., 7., 4.])\n",
    "\n",
    "# Check the datatype of each 👀\n",
    "numpy_J.dtype, tensor_J.dtype"
   ]
  }
 ],
 "metadata": {
  "accelerator": "GPU",
  "colab": {
   "gpuType": "T4",
   "provenance": []
  },
  "kernelspec": {
   "display_name": "Python 3 (ipykernel)",
   "language": "python",
   "name": "python3"
  },
  "language_info": {
   "codemirror_mode": {
    "name": "ipython",
    "version": 3
   },
   "file_extension": ".py",
   "mimetype": "text/x-python",
   "name": "python",
   "nbconvert_exporter": "python",
   "pygments_lexer": "ipython3",
   "version": "3.9.7"
  }
 },
 "nbformat": 4,
 "nbformat_minor": 1
}
